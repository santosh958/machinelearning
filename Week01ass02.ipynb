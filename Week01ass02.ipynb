{
  "nbformat": 4,
  "nbformat_minor": 0,
  "metadata": {
    "colab": {
      "provenance": [],
      "authorship_tag": "ABX9TyNn6x4OpJtWy6R39tG7rDDO",
      "include_colab_link": true
    },
    "kernelspec": {
      "name": "python3",
      "display_name": "Python 3"
    },
    "language_info": {
      "name": "python"
    }
  },
  "cells": [
    {
      "cell_type": "markdown",
      "metadata": {
        "id": "view-in-github",
        "colab_type": "text"
      },
      "source": [
        "<a href=\"https://colab.research.google.com/github/santosh958/machinelearning/blob/main/Week01ass02.ipynb\" target=\"_parent\"><img src=\"https://colab.research.google.com/assets/colab-badge.svg\" alt=\"Open In Colab\"/></a>"
      ]
    },
    {
      "cell_type": "code",
      "execution_count": null,
      "metadata": {
        "id": "OYBY5UhL9BkJ"
      },
      "outputs": [],
      "source": [
        "# Import necessary libraries\n",
        "import pandas as pd\n",
        "\n",
        "# Load the datasets\n",
        "mat_data = pd.read_csv('student-mat.csv', sep=';')\n",
        "por_data = pd.read_csv('student-por.csv', sep=';')\n",
        "\n",
        "# Combine the datasets\n",
        "data = pd.concat([mat_data, por_data], ignore_index=True)\n",
        "print(data.head())\n"
      ]
    },
    {
      "cell_type": "code",
      "source": [
        "# Explore the dataset\n",
        "print(data.info())\n",
        "print(data.describe())\n",
        "print(data.isnull().sum())\n",
        "\n",
        "# Handle missing values if any\n",
        "data = data.dropna()\n",
        "\n",
        "# Encode categorical variables\n",
        "categorical_cols = data.select_dtypes(include=['object']).columns\n",
        "data = pd.get_dummies(data, columns=categorical_cols, drop_first=True)\n",
        "\n",
        "# Standardize numerical features\n",
        "from sklearn.preprocessing import StandardScaler\n",
        "\n",
        "numerical_cols = data.select_dtypes(include=['int64', 'float64']).columns\n",
        "scaler = StandardScaler()\n",
        "data[numerical_cols] = scaler.fit_transform(data[numerical_cols])\n",
        "\n",
        "print(data.head())\n"
      ],
      "metadata": {
        "id": "7-BXX-RD9JzX"
      },
      "execution_count": null,
      "outputs": []
    },
    {
      "cell_type": "code",
      "source": [
        "# Check correlation with the target variable 'G3'\n",
        "import seaborn as sns\n",
        "import matplotlib.pyplot as plt\n",
        "\n",
        "plt.figure(figsize=(12, 8))\n",
        "correlation_matrix = data.corr()\n",
        "sns.heatmap(correlation_matrix, annot=True, fmt=\".2f\")\n",
        "plt.show()\n",
        "\n",
        "# Selecting features based on correlation\n",
        "corr_with_target = correlation_matrix['G3'].abs().sort_values(ascending=False)\n",
        "selected_features = corr_with_target.index[1:16]  # Selecting top 15 features\n",
        "data = data[selected_features]\n",
        "\n",
        "print(data.head())\n"
      ],
      "metadata": {
        "id": "Gl9LMg_r9OOE"
      },
      "execution_count": null,
      "outputs": []
    },
    {
      "cell_type": "code",
      "source": [
        "from sklearn.model_selection import train_test_split\n",
        "from sklearn.linear_model import LinearRegression\n",
        "\n",
        "# Define features and target\n",
        "X = data.drop('G3', axis=1)\n",
        "y = data['G3']\n",
        "\n",
        "# Split the data into training and testing sets\n",
        "X_train, X_test, y_train, y_test = train_test_split(X, y, test_size=0.2, random_state=42)\n",
        "\n",
        "# Build the model\n",
        "model = LinearRegression()\n",
        "model.fit(X_train, y_train)\n",
        "\n",
        "# Predict and evaluate the model\n",
        "y_pred = model.predict(X_test)\n"
      ],
      "metadata": {
        "id": "c8K1-EXT9Q-J"
      },
      "execution_count": null,
      "outputs": []
    },
    {
      "cell_type": "code",
      "source": [
        "from sklearn.model_selection import GridSearchCV\n",
        "from sklearn.ensemble import RandomForestRegressor\n",
        "\n",
        "# Define the model and parameters for GridSearchCV\n",
        "model = RandomForestRegressor(random_state=42)\n",
        "param_grid = {\n",
        "    'n_estimators': [100, 200, 300],\n",
        "    'max_depth': [None, 10, 20, 30],\n",
        "    'min_samples_split': [2, 5, 10],\n",
        "    'min_samples_leaf': [1, 2, 4]\n",
        "}\n",
        "\n",
        "# Perform GridSearchCV\n",
        "grid_search = GridSearchCV(estimator=model, param_grid=param_grid, cv=3, n_jobs=-1, verbose=2)\n",
        "grid_search.fit(X_train, y_train)\n",
        "\n",
        "# Get the best model\n",
        "best_model = grid_search.best_estimator_\n",
        "\n",
        "# Predict and evaluate the best model\n",
        "y_pred = best_model.predict(X_test)\n"
      ],
      "metadata": {
        "id": "_fcEjxke9T9w"
      },
      "execution_count": null,
      "outputs": []
    },
    {
      "cell_type": "code",
      "source": [
        "from sklearn.metrics import mean_squared_error, r2_score\n",
        "\n",
        "# Evaluate the model\n",
        "mse = mean_squared_error(y_test, y_pred)\n",
        "r2 = r2_score(y_test, y_pred)\n",
        "\n",
        "print(f'Mean Squared Error: {mse}')\n",
        "print(f'R^2 Score: {r2}')\n"
      ],
      "metadata": {
        "id": "81Wgv8t_9W-a"
      },
      "execution_count": null,
      "outputs": []
    },
    {
      "cell_type": "code",
      "source": [
        "# Visualize the predicted vs actual values\n",
        "plt.figure(figsize=(10, 6))\n",
        "plt.scatter(y_test, y_pred, alpha=0.7)\n",
        "plt.xlabel('Actual Grades')\n",
        "plt.ylabel('Predicted Grades')\n",
        "plt.title('Actual vs Predicted Grades')\n",
        "plt.show()\n",
        "\n",
        "# Summarize findings\n",
        "print(\"Summary of Findings:\")\n",
        "print(f\"The best model is: {best_model}\")\n",
        "print(f\"Mean Squared Error: {mse}\")\n",
        "print(f\"R^2 Score: {r2}\")\n"
      ],
      "metadata": {
        "id": "yNM51s4w9aSh"
      },
      "execution_count": null,
      "outputs": []
    }
  ]
}