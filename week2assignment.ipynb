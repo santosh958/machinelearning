{
 "cells": [
  {
   "cell_type": "code",
   "execution_count": null,
   "id": "a996feb5-b85c-4b5e-bb76-81b51d888821",
   "metadata": {},
   "outputs": [
    {
     "name": "stdout",
     "output_type": "stream",
     "text": [
      "Speak...\n"
     ]
    }
   ],
   "source": [
    "import speech_recognition as sr\n",
    "import tkinter as tk\n",
    "import threading\n",
    "\n",
    "# Initialize recognizer and microphone\n",
    "recognizer = sr.Recognizer()\n",
    "microphone = sr.Microphone()\n",
    "\n",
    "# Flag to track recording status\n",
    "recording = False\n",
    "\n",
    "def start_recording():\n",
    "  global recording\n",
    "  recording = True\n",
    "\n",
    "  # Listen to microphone with a short chunk duration for responsiveness\n",
    "  with microphone as source:\n",
    "    recognizer.adjust_for_ambient_noise(source, duration=0.5)\n",
    "    print(\"Speak...\")\n",
    "    audio = recognizer.listen(source)\n",
    "\n",
    "  # Stop recording and transcribe audio in a separate thread\n",
    "  stop_recording_thread = threading.Thread(target=stop_recording_and_transcribe, args=(audio,))\n",
    "  stop_recording_thread.start()\n",
    "\n",
    "def stop_recording_and_transcribe(audio):\n",
    "  global recording\n",
    "  recording = False\n",
    "\n",
    "  try:\n",
    "    # Use Google Speech Recognition for transcription (requires internet connection)\n",
    "    text = recognizer.recognize_google(audio)\n",
    "    print(\"You said:\", text)\n",
    "    # Update UI with transcribed text (example using label)\n",
    "    transcription_label.config(text=text)\n",
    "  except sr.UnknownValueError:\n",
    "    print(\"Could not understand audio\")\n",
    "  except sr.RequestError as e:\n",
    "    print(\"Could not request results from Google Speech Recognition service; {0}\".format(e))\n",
    "\n",
    "def stop_recording():\n",
    "  global recording\n",
    "  recording = False\n",
    "\n",
    "# Create the main window\n",
    "root = tk.Tk()\n",
    "root.title(\"Audio Transcription\")\n",
    "\n",
    "# Create buttons for record and stop with background colors\n",
    "record_button = tk.Button(root, text=\"Record\", command=start_recording, bg=\"green\")\n",
    "record_button.pack(pady=10)\n",
    "stop_button = tk.Button(root, text=\"Stop\", command=stop_recording, state=\"disabled\", bg=\"orange\")\n",
    "stop_button.pack(pady=10)\n",
    "\n",
    "# Label to display transcribed text\n",
    "transcription_label = tk.Label(root, text=\"\")\n",
    "transcription_label.pack()\n",
    "\n",
    "# Disable stop button initially and enable it only while recording\n",
    "def update_buttons():\n",
    "  if recording:\n",
    "    stop_button.config(state=\"normal\")\n",
    "    record_button.config(state=\"disabled\")\n",
    "  else:\n",
    "    stop_button.config(state=\"disabled\")\n",
    "    record_button.config(state=\"normal\")\n",
    "\n",
    "root.after(100, update_buttons)  # Update button states every 100 milliseconds\n",
    "\n",
    "root.mainloop()\n",
    "\n"
   ]
  },
  {
   "cell_type": "code",
   "execution_count": null,
   "id": "daaba260-4893-45c5-8a0b-23153ab45103",
   "metadata": {},
   "outputs": [],
   "source": []
  },
  {
   "cell_type": "code",
   "execution_count": null,
   "id": "a72952f3-f07c-49f2-871f-28fa7dbc7814",
   "metadata": {},
   "outputs": [],
   "source": []
  }
 ],
 "metadata": {
  "kernelspec": {
   "display_name": "Python 3 (ipykernel)",
   "language": "python",
   "name": "python3"
  },
  "language_info": {
   "codemirror_mode": {
    "name": "ipython",
    "version": 3
   },
   "file_extension": ".py",
   "mimetype": "text/x-python",
   "name": "python",
   "nbconvert_exporter": "python",
   "pygments_lexer": "ipython3",
   "version": "3.12.3"
  }
 },
 "nbformat": 4,
 "nbformat_minor": 5
}
